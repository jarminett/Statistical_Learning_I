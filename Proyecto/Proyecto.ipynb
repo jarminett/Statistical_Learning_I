{
 "cells": [
  {
   "cell_type": "markdown",
   "id": "7185a1db",
   "metadata": {},
   "source": [
    "### UNIVERSIDAD GALILEO<br> Statistical Learning I<br>  Luis Florian, 0710082\n",
    "El proyecto consiste en hacer clasificación binaria  para determinar si una persona sobrevive(y=1) o no (y=0) del hundimiento del Titanic ."
   ]
  },
  {
   "cell_type": "code",
   "execution_count": 13,
   "id": "fd95d538",
   "metadata": {},
   "outputs": [
    {
     "name": "stdout",
     "output_type": "stream",
     "text": [
      "WARNING:tensorflow:From /home/jarminet/anaconda3/envs/galileo1/lib/python3.7/site-packages/tensorflow/python/compat/v2_compat.py:96: disable_resource_variables (from tensorflow.python.ops.variable_scope) is deprecated and will be removed in a future version.\n",
      "Instructions for updating:\n",
      "non-resource variables are not supported in the long term\n"
     ]
    }
   ],
   "source": [
    "import pandas as pd\n",
    "import numpy as np\n",
    "import tensorflow as tf\n",
    "import datetime\n",
    "import matplotlib.pyplot as plt\n",
    "import seaborn as sns\n",
    "import graphviz\n",
    "from sklearn.model_selection import train_test_split\n",
    "from sklearn.tree import export_graphviz, DecisionTreeClassifier\n",
    "import pandas as pd\n",
    "from sklearn import svm\n",
    "from math import sqrt, pi, exp\n",
    "from sklearn.metrics import accuracy_score, f1_score, recall_score, precision_score\n",
    "from sklearn.utils import resample\n",
    "\n",
    "#TensorFlow version 1 compatibility\n",
    "sns.set(style=\"darkgrid\")\n",
    "if tf.__version__.startswith(\"2.\"):\n",
    "  import tensorflow.compat.v1 as tf\n",
    "  tf.compat.v1.disable_v2_behavior()\n",
    "  tf.compat.v1.disable_eager_execution()"
   ]
  },
  {
   "cell_type": "markdown",
   "id": "9f1fd674",
   "metadata": {},
   "source": [
    "### **Carga de datos**"
   ]
  },
  {
   "cell_type": "code",
   "execution_count": 22,
   "id": "5cadc5a5",
   "metadata": {},
   "outputs": [],
   "source": [
    "data = pd.read_csv('./data/data_titanic_proyecto.csv')\n",
    "# Cada vez que se vuelvan a cargar los datos, necesitaremos volver a transformar\n",
    "transformed_categoric = False"
   ]
  },
  {
   "cell_type": "markdown",
   "id": "683c2d6a",
   "metadata": {},
   "source": [
    "### **Análisis Exploratorio de Datos**"
   ]
  },
  {
   "cell_type": "code",
   "execution_count": 23,
   "id": "2130dff6",
   "metadata": {},
   "outputs": [
    {
     "data": {
      "text/plain": [
       "PassengerId             0\n",
       "Name                    0\n",
       "Age                   177\n",
       "SibSp                   0\n",
       "Parch                   0\n",
       "Ticket                  0\n",
       "Fare                    0\n",
       "Cabin                 687\n",
       "Embarked                2\n",
       "passenger_class         0\n",
       "passenger_sex           0\n",
       "passenger_survived      0\n",
       "dtype: int64"
      ]
     },
     "execution_count": 23,
     "metadata": {},
     "output_type": "execute_result"
    }
   ],
   "source": [
    "data.isna().sum()"
   ]
  },
  {
   "cell_type": "markdown",
   "id": "079884b5",
   "metadata": {},
   "source": [
    "Se observa que Cabin tiene muchos valores faltantes, por lo que no es recomendable realizar imputación de media/mediana.  Meintras que si podemos utilizar estadística descriptiva para rellenar los valores faltantes en Age y Embarked ya que son menos faltantes."
   ]
  },
  {
   "cell_type": "code",
   "execution_count": 24,
   "id": "6428333b",
   "metadata": {},
   "outputs": [
    {
     "data": {
      "text/html": [
       "<div>\n",
       "<style scoped>\n",
       "    .dataframe tbody tr th:only-of-type {\n",
       "        vertical-align: middle;\n",
       "    }\n",
       "\n",
       "    .dataframe tbody tr th {\n",
       "        vertical-align: top;\n",
       "    }\n",
       "\n",
       "    .dataframe thead th {\n",
       "        text-align: right;\n",
       "    }\n",
       "</style>\n",
       "<table border=\"1\" class=\"dataframe\">\n",
       "  <thead>\n",
       "    <tr style=\"text-align: right;\">\n",
       "      <th></th>\n",
       "      <th>PassengerId</th>\n",
       "      <th>Name</th>\n",
       "      <th>Age</th>\n",
       "      <th>SibSp</th>\n",
       "      <th>Parch</th>\n",
       "      <th>Ticket</th>\n",
       "      <th>Fare</th>\n",
       "      <th>Cabin</th>\n",
       "      <th>Embarked</th>\n",
       "      <th>passenger_class</th>\n",
       "      <th>passenger_sex</th>\n",
       "      <th>passenger_survived</th>\n",
       "    </tr>\n",
       "  </thead>\n",
       "  <tbody>\n",
       "    <tr>\n",
       "      <th>788</th>\n",
       "      <td>789</td>\n",
       "      <td>Dean, Master. Bertram Vere</td>\n",
       "      <td>1.0</td>\n",
       "      <td>1</td>\n",
       "      <td>2</td>\n",
       "      <td>C.A. 2315</td>\n",
       "      <td>20.5750</td>\n",
       "      <td>NaN</td>\n",
       "      <td>S</td>\n",
       "      <td>Lower</td>\n",
       "      <td>M</td>\n",
       "      <td>Y</td>\n",
       "    </tr>\n",
       "    <tr>\n",
       "      <th>337</th>\n",
       "      <td>338</td>\n",
       "      <td>Burns, Miss. Elizabeth Margaret</td>\n",
       "      <td>41.0</td>\n",
       "      <td>0</td>\n",
       "      <td>0</td>\n",
       "      <td>16966</td>\n",
       "      <td>134.5000</td>\n",
       "      <td>E40</td>\n",
       "      <td>C</td>\n",
       "      <td>Upper</td>\n",
       "      <td>F</td>\n",
       "      <td>Y</td>\n",
       "    </tr>\n",
       "    <tr>\n",
       "      <th>797</th>\n",
       "      <td>798</td>\n",
       "      <td>Osman, Mrs. Mara</td>\n",
       "      <td>31.0</td>\n",
       "      <td>0</td>\n",
       "      <td>0</td>\n",
       "      <td>349244</td>\n",
       "      <td>8.6833</td>\n",
       "      <td>NaN</td>\n",
       "      <td>S</td>\n",
       "      <td>Lower</td>\n",
       "      <td>F</td>\n",
       "      <td>Y</td>\n",
       "    </tr>\n",
       "    <tr>\n",
       "      <th>43</th>\n",
       "      <td>44</td>\n",
       "      <td>Laroche, Miss. Simonne Marie Anne Andree</td>\n",
       "      <td>3.0</td>\n",
       "      <td>1</td>\n",
       "      <td>2</td>\n",
       "      <td>SC/Paris 2123</td>\n",
       "      <td>41.5792</td>\n",
       "      <td>NaN</td>\n",
       "      <td>C</td>\n",
       "      <td>Middle</td>\n",
       "      <td>F</td>\n",
       "      <td>Y</td>\n",
       "    </tr>\n",
       "    <tr>\n",
       "      <th>341</th>\n",
       "      <td>342</td>\n",
       "      <td>Fortune, Miss. Alice Elizabeth</td>\n",
       "      <td>24.0</td>\n",
       "      <td>3</td>\n",
       "      <td>2</td>\n",
       "      <td>19950</td>\n",
       "      <td>263.0000</td>\n",
       "      <td>C23 C25 C27</td>\n",
       "      <td>S</td>\n",
       "      <td>Upper</td>\n",
       "      <td>F</td>\n",
       "      <td>Y</td>\n",
       "    </tr>\n",
       "  </tbody>\n",
       "</table>\n",
       "</div>"
      ],
      "text/plain": [
       "     PassengerId                                      Name   Age  SibSp  \\\n",
       "788          789                Dean, Master. Bertram Vere   1.0      1   \n",
       "337          338           Burns, Miss. Elizabeth Margaret  41.0      0   \n",
       "797          798                          Osman, Mrs. Mara  31.0      0   \n",
       "43            44  Laroche, Miss. Simonne Marie Anne Andree   3.0      1   \n",
       "341          342            Fortune, Miss. Alice Elizabeth  24.0      3   \n",
       "\n",
       "     Parch         Ticket      Fare        Cabin Embarked passenger_class  \\\n",
       "788      2      C.A. 2315   20.5750          NaN        S           Lower   \n",
       "337      0          16966  134.5000          E40        C           Upper   \n",
       "797      0         349244    8.6833          NaN        S           Lower   \n",
       "43       2  SC/Paris 2123   41.5792          NaN        C          Middle   \n",
       "341      2          19950  263.0000  C23 C25 C27        S           Upper   \n",
       "\n",
       "    passenger_sex passenger_survived  \n",
       "788             M                  Y  \n",
       "337             F                  Y  \n",
       "797             F                  Y  \n",
       "43              F                  Y  \n",
       "341             F                  Y  "
      ]
     },
     "execution_count": 24,
     "metadata": {},
     "output_type": "execute_result"
    }
   ],
   "source": [
    "data.sample(5)"
   ]
  },
  {
   "cell_type": "markdown",
   "id": "cf68bce6",
   "metadata": {},
   "source": [
    "Se observa que tenemos varias variables categóricas."
   ]
  },
  {
   "cell_type": "markdown",
   "id": "5d753953",
   "metadata": {},
   "source": [
    "### **Transformación de Variables Categóricas**"
   ]
  },
  {
   "cell_type": "code",
   "execution_count": 25,
   "id": "95ce6947",
   "metadata": {},
   "outputs": [],
   "source": [
    "if not transformed_categoric:\n",
    "    data[\"passenger_class\"] = data[\"passenger_class\"].replace({\"Upper\" : 1, \"Middle\" : 2, \"Lower\" : 3}).astype('int32')\n",
    "    data[\"passenger_survived\"] = data[\"passenger_survived\"].replace({\"Y\" : 1, \"N\" : 0}).astype('int32')\n",
    "    data[\"passenger_sex\"] = data[\"passenger_sex\"].replace({\"M\" : 1, \"F\" : 0}).astype('int32')\n",
    "    data[\"Embarked\"] = data[\"Embarked\"].replace({\"Q\" : 0, \"C\" : 1, \"S\": 2})\n",
    "    transformed_categoric = True"
   ]
  },
  {
   "cell_type": "code",
   "execution_count": 26,
   "id": "a83af40b",
   "metadata": {
    "scrolled": true
   },
   "outputs": [
    {
     "data": {
      "text/html": [
       "<div>\n",
       "<style scoped>\n",
       "    .dataframe tbody tr th:only-of-type {\n",
       "        vertical-align: middle;\n",
       "    }\n",
       "\n",
       "    .dataframe tbody tr th {\n",
       "        vertical-align: top;\n",
       "    }\n",
       "\n",
       "    .dataframe thead th {\n",
       "        text-align: right;\n",
       "    }\n",
       "</style>\n",
       "<table border=\"1\" class=\"dataframe\">\n",
       "  <thead>\n",
       "    <tr style=\"text-align: right;\">\n",
       "      <th></th>\n",
       "      <th>PassengerId</th>\n",
       "      <th>Name</th>\n",
       "      <th>Age</th>\n",
       "      <th>SibSp</th>\n",
       "      <th>Parch</th>\n",
       "      <th>Ticket</th>\n",
       "      <th>Fare</th>\n",
       "      <th>Cabin</th>\n",
       "      <th>Embarked</th>\n",
       "      <th>passenger_class</th>\n",
       "      <th>passenger_sex</th>\n",
       "      <th>passenger_survived</th>\n",
       "    </tr>\n",
       "  </thead>\n",
       "  <tbody>\n",
       "    <tr>\n",
       "      <th>289</th>\n",
       "      <td>290</td>\n",
       "      <td>Connolly, Miss. Kate</td>\n",
       "      <td>22.0</td>\n",
       "      <td>0</td>\n",
       "      <td>0</td>\n",
       "      <td>370373</td>\n",
       "      <td>7.7500</td>\n",
       "      <td>NaN</td>\n",
       "      <td>0.0</td>\n",
       "      <td>3</td>\n",
       "      <td>0</td>\n",
       "      <td>1</td>\n",
       "    </tr>\n",
       "    <tr>\n",
       "      <th>747</th>\n",
       "      <td>748</td>\n",
       "      <td>Sinkkonen, Miss. Anna</td>\n",
       "      <td>30.0</td>\n",
       "      <td>0</td>\n",
       "      <td>0</td>\n",
       "      <td>250648</td>\n",
       "      <td>13.0000</td>\n",
       "      <td>NaN</td>\n",
       "      <td>2.0</td>\n",
       "      <td>2</td>\n",
       "      <td>0</td>\n",
       "      <td>1</td>\n",
       "    </tr>\n",
       "    <tr>\n",
       "      <th>38</th>\n",
       "      <td>39</td>\n",
       "      <td>Vander Planke, Miss. Augusta Maria</td>\n",
       "      <td>18.0</td>\n",
       "      <td>2</td>\n",
       "      <td>0</td>\n",
       "      <td>345764</td>\n",
       "      <td>18.0000</td>\n",
       "      <td>NaN</td>\n",
       "      <td>2.0</td>\n",
       "      <td>3</td>\n",
       "      <td>0</td>\n",
       "      <td>0</td>\n",
       "    </tr>\n",
       "    <tr>\n",
       "      <th>452</th>\n",
       "      <td>453</td>\n",
       "      <td>Foreman, Mr. Benjamin Laventall</td>\n",
       "      <td>30.0</td>\n",
       "      <td>0</td>\n",
       "      <td>0</td>\n",
       "      <td>113051</td>\n",
       "      <td>27.7500</td>\n",
       "      <td>C111</td>\n",
       "      <td>1.0</td>\n",
       "      <td>1</td>\n",
       "      <td>1</td>\n",
       "      <td>0</td>\n",
       "    </tr>\n",
       "    <tr>\n",
       "      <th>561</th>\n",
       "      <td>562</td>\n",
       "      <td>Sivic, Mr. Husein</td>\n",
       "      <td>40.0</td>\n",
       "      <td>0</td>\n",
       "      <td>0</td>\n",
       "      <td>349251</td>\n",
       "      <td>7.8958</td>\n",
       "      <td>NaN</td>\n",
       "      <td>2.0</td>\n",
       "      <td>3</td>\n",
       "      <td>1</td>\n",
       "      <td>0</td>\n",
       "    </tr>\n",
       "  </tbody>\n",
       "</table>\n",
       "</div>"
      ],
      "text/plain": [
       "     PassengerId                                Name   Age  SibSp  Parch  \\\n",
       "289          290                Connolly, Miss. Kate  22.0      0      0   \n",
       "747          748               Sinkkonen, Miss. Anna  30.0      0      0   \n",
       "38            39  Vander Planke, Miss. Augusta Maria  18.0      2      0   \n",
       "452          453     Foreman, Mr. Benjamin Laventall  30.0      0      0   \n",
       "561          562                   Sivic, Mr. Husein  40.0      0      0   \n",
       "\n",
       "     Ticket     Fare Cabin  Embarked  passenger_class  passenger_sex  \\\n",
       "289  370373   7.7500   NaN       0.0                3              0   \n",
       "747  250648  13.0000   NaN       2.0                2              0   \n",
       "38   345764  18.0000   NaN       2.0                3              0   \n",
       "452  113051  27.7500  C111       1.0                1              1   \n",
       "561  349251   7.8958   NaN       2.0                3              1   \n",
       "\n",
       "     passenger_survived  \n",
       "289                   1  \n",
       "747                   1  \n",
       "38                    0  \n",
       "452                   0  \n",
       "561                   0  "
      ]
     },
     "execution_count": 26,
     "metadata": {},
     "output_type": "execute_result"
    }
   ],
   "source": [
    "data.sample(5)"
   ]
  },
  {
   "cell_type": "markdown",
   "id": "f0c935f6",
   "metadata": {},
   "source": [
    "Se observa que los valores en las variables categóricas tiene ahora una representación numérica."
   ]
  },
  {
   "cell_type": "markdown",
   "id": "16b12305",
   "metadata": {},
   "source": [
    "### **Splitting Data Set**\n",
    "Vamos a separar el dataset en tres grupos, training, testing y validation."
   ]
  },
  {
   "cell_type": "code",
   "execution_count": 27,
   "id": "39236ff8",
   "metadata": {},
   "outputs": [
    {
     "name": "stdout",
     "output_type": "stream",
     "text": [
      "Complete data shape = (891, 12)\n",
      "train shape shape = (569, 12)\n",
      "validation shape (143, 12)\n"
     ]
    }
   ],
   "source": [
    "train = test = validation = None\n",
    "def split_dataset():\n",
    "    global train, test, validation\n",
    "    train, test = train_test_split(data, test_size=0.2, random_state=420*666)\n",
    "    train, validation = train_test_split(train, test_size=0.2, random_state=420*666)\n",
    "\n",
    "split_dataset()\n",
    "\n",
    "print(\"Complete data shape =\", data.shape)\n",
    "print(\"train shape shape =\", train.shape)\n",
    "print(\"validation shape\", validation.shape)"
   ]
  },
  {
   "cell_type": "markdown",
   "id": "78081c09",
   "metadata": {},
   "source": [
    "### **Imputación de datos faltantes**"
   ]
  },
  {
   "cell_type": "code",
   "execution_count": 32,
   "id": "92dad572",
   "metadata": {
    "scrolled": true
   },
   "outputs": [
    {
     "name": "stdout",
     "output_type": "stream",
     "text": [
      "***** Medianas *****\n",
      "passenger_class\n",
      "1    36.0\n",
      "2    30.0\n",
      "3    25.0\n",
      "Name: Age, dtype: float64 \n",
      "\n",
      "passenger_sex\n",
      "0    27.0\n",
      "1    29.0\n",
      "Name: Age, dtype: float64 \n",
      "\n",
      "\n",
      "***** Medias *****\n",
      "passenger_class\n",
      "1    36.503590\n",
      "2    29.708276\n",
      "3    26.054330\n",
      "Name: Age, dtype: float64 \n",
      "\n",
      "passenger_sex\n",
      "0    28.021802\n",
      "1    30.643860\n",
      "Name: Age, dtype: float64 \n",
      "\n"
     ]
    }
   ],
   "source": [
    "print(\"***** Medianas *****\")\n",
    "print(train.groupby('passenger_class').median()['Age'], \"\\n\")\n",
    "print(train.groupby('passenger_sex').median()['Age'], \"\\n\\n\")\n",
    "\n",
    "print(\"***** Medias *****\")\n",
    "print(train.groupby('passenger_class').mean()['Age'], \"\\n\")\n",
    "print(train.groupby('passenger_sex').mean()['Age'], \"\\n\")"
   ]
  },
  {
   "cell_type": "markdown",
   "id": "4f23942f",
   "metadata": {},
   "source": [
    "**Dos factores importantes:**\n",
    "\n",
    "**1)** Aumento en la mediana de la edad conforme la clase aumenta.<br>\n",
    "**2)** Las mujeres son ligeramente más jóvenes.\n"
   ]
  }
 ],
 "metadata": {
  "kernelspec": {
   "display_name": "Python 3",
   "language": "python",
   "name": "python3"
  },
  "language_info": {
   "codemirror_mode": {
    "name": "ipython",
    "version": 3
   },
   "file_extension": ".py",
   "mimetype": "text/x-python",
   "name": "python",
   "nbconvert_exporter": "python",
   "pygments_lexer": "ipython3",
   "version": "3.7.10"
  }
 },
 "nbformat": 4,
 "nbformat_minor": 5
}
