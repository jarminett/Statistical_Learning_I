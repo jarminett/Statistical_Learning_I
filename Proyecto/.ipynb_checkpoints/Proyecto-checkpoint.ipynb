{
 "cells": [
  {
   "cell_type": "markdown",
   "id": "ede5f28b",
   "metadata": {},
   "source": [
    "### UNIVERSIDAD GALILEO<br> Statistical Learning I<br>  Luis Florian, 0710082\n",
    "El proyecto consiste en hacer clasificación binaria  para determinar si una persona sobrevive(y=1) o no (y=0) del hundimiento del Titanic ."
   ]
  },
  {
   "cell_type": "code",
   "execution_count": 13,
   "id": "db192874",
   "metadata": {},
   "outputs": [
    {
     "name": "stdout",
     "output_type": "stream",
     "text": [
      "WARNING:tensorflow:From /home/jarminet/anaconda3/envs/galileo1/lib/python3.7/site-packages/tensorflow/python/compat/v2_compat.py:96: disable_resource_variables (from tensorflow.python.ops.variable_scope) is deprecated and will be removed in a future version.\n",
      "Instructions for updating:\n",
      "non-resource variables are not supported in the long term\n"
     ]
    }
   ],
   "source": [
    "import pandas as pd\n",
    "import numpy as np\n",
    "import tensorflow as tf\n",
    "import datetime\n",
    "import matplotlib.pyplot as plt\n",
    "import seaborn as sns\n",
    "import graphviz\n",
    "from sklearn.model_selection import train_test_split\n",
    "from sklearn.tree import export_graphviz, DecisionTreeClassifier\n",
    "import pandas as pd\n",
    "from sklearn import svm\n",
    "from math import sqrt, pi, exp\n",
    "from sklearn.metrics import accuracy_score, f1_score, recall_score, precision_score\n",
    "from sklearn.utils import resample\n",
    "\n",
    "#TensorFlow version 1 compatibility\n",
    "sns.set(style=\"darkgrid\")\n",
    "if tf.__version__.startswith(\"2.\"):\n",
    "  import tensorflow.compat.v1 as tf\n",
    "  tf.compat.v1.disable_v2_behavior()\n",
    "  tf.compat.v1.disable_eager_execution()"
   ]
  },
  {
   "cell_type": "markdown",
   "id": "163825a0",
   "metadata": {},
   "source": [
    "### **Carga de datos**"
   ]
  },
  {
   "cell_type": "code",
   "execution_count": 22,
   "id": "efcb8783",
   "metadata": {},
   "outputs": [],
   "source": [
    "data = pd.read_csv('./data/data_titanic_proyecto.csv')\n",
    "# Cada vez que se vuelvan a cargar los datos, necesitaremos volver a transformar\n",
    "transformed_categoric = False"
   ]
  },
  {
   "cell_type": "markdown",
   "id": "754da50c",
   "metadata": {},
   "source": [
    "### **Análisis Exploratorio de Datos**"
   ]
  },
  {
   "cell_type": "code",
   "execution_count": 23,
   "id": "708da08b",
   "metadata": {},
   "outputs": [
    {
     "data": {
      "text/plain": [
       "PassengerId             0\n",
       "Name                    0\n",
       "Age                   177\n",
       "SibSp                   0\n",
       "Parch                   0\n",
       "Ticket                  0\n",
       "Fare                    0\n",
       "Cabin                 687\n",
       "Embarked                2\n",
       "passenger_class         0\n",
       "passenger_sex           0\n",
       "passenger_survived      0\n",
       "dtype: int64"
      ]
     },
     "execution_count": 23,
     "metadata": {},
     "output_type": "execute_result"
    }
   ],
   "source": [
    "data.isna().sum()"
   ]
  },
  {
   "cell_type": "markdown",
   "id": "3e8b6729",
   "metadata": {},
   "source": [
    "Se observa que Cabin tiene muchos valores faltantes, por lo que no es recomendable realizar imputación de media/mediana.  Meintras que si podemos utilizar estadística descriptiva para rellenar los valores faltantes en Age y Embarked ya que son menos faltantes."
   ]
  },
  {
   "cell_type": "code",
   "execution_count": 24,
   "id": "bc9d792a",
   "metadata": {},
   "outputs": [
    {
     "data": {
      "text/html": [
       "<div>\n",
       "<style scoped>\n",
       "    .dataframe tbody tr th:only-of-type {\n",
       "        vertical-align: middle;\n",
       "    }\n",
       "\n",
       "    .dataframe tbody tr th {\n",
       "        vertical-align: top;\n",
       "    }\n",
       "\n",
       "    .dataframe thead th {\n",
       "        text-align: right;\n",
       "    }\n",
       "</style>\n",
       "<table border=\"1\" class=\"dataframe\">\n",
       "  <thead>\n",
       "    <tr style=\"text-align: right;\">\n",
       "      <th></th>\n",
       "      <th>PassengerId</th>\n",
       "      <th>Name</th>\n",
       "      <th>Age</th>\n",
       "      <th>SibSp</th>\n",
       "      <th>Parch</th>\n",
       "      <th>Ticket</th>\n",
       "      <th>Fare</th>\n",
       "      <th>Cabin</th>\n",
       "      <th>Embarked</th>\n",
       "      <th>passenger_class</th>\n",
       "      <th>passenger_sex</th>\n",
       "      <th>passenger_survived</th>\n",
       "    </tr>\n",
       "  </thead>\n",
       "  <tbody>\n",
       "    <tr>\n",
       "      <th>788</th>\n",
       "      <td>789</td>\n",
       "      <td>Dean, Master. Bertram Vere</td>\n",
       "      <td>1.0</td>\n",
       "      <td>1</td>\n",
       "      <td>2</td>\n",
       "      <td>C.A. 2315</td>\n",
       "      <td>20.5750</td>\n",
       "      <td>NaN</td>\n",
       "      <td>S</td>\n",
       "      <td>Lower</td>\n",
       "      <td>M</td>\n",
       "      <td>Y</td>\n",
       "    </tr>\n",
       "    <tr>\n",
       "      <th>337</th>\n",
       "      <td>338</td>\n",
       "      <td>Burns, Miss. Elizabeth Margaret</td>\n",
       "      <td>41.0</td>\n",
       "      <td>0</td>\n",
       "      <td>0</td>\n",
       "      <td>16966</td>\n",
       "      <td>134.5000</td>\n",
       "      <td>E40</td>\n",
       "      <td>C</td>\n",
       "      <td>Upper</td>\n",
       "      <td>F</td>\n",
       "      <td>Y</td>\n",
       "    </tr>\n",
       "    <tr>\n",
       "      <th>797</th>\n",
       "      <td>798</td>\n",
       "      <td>Osman, Mrs. Mara</td>\n",
       "      <td>31.0</td>\n",
       "      <td>0</td>\n",
       "      <td>0</td>\n",
       "      <td>349244</td>\n",
       "      <td>8.6833</td>\n",
       "      <td>NaN</td>\n",
       "      <td>S</td>\n",
       "      <td>Lower</td>\n",
       "      <td>F</td>\n",
       "      <td>Y</td>\n",
       "    </tr>\n",
       "    <tr>\n",
       "      <th>43</th>\n",
       "      <td>44</td>\n",
       "      <td>Laroche, Miss. Simonne Marie Anne Andree</td>\n",
       "      <td>3.0</td>\n",
       "      <td>1</td>\n",
       "      <td>2</td>\n",
       "      <td>SC/Paris 2123</td>\n",
       "      <td>41.5792</td>\n",
       "      <td>NaN</td>\n",
       "      <td>C</td>\n",
       "      <td>Middle</td>\n",
       "      <td>F</td>\n",
       "      <td>Y</td>\n",
       "    </tr>\n",
       "    <tr>\n",
       "      <th>341</th>\n",
       "      <td>342</td>\n",
       "      <td>Fortune, Miss. Alice Elizabeth</td>\n",
       "      <td>24.0</td>\n",
       "      <td>3</td>\n",
       "      <td>2</td>\n",
       "      <td>19950</td>\n",
       "      <td>263.0000</td>\n",
       "      <td>C23 C25 C27</td>\n",
       "      <td>S</td>\n",
       "      <td>Upper</td>\n",
       "      <td>F</td>\n",
       "      <td>Y</td>\n",
       "    </tr>\n",
       "  </tbody>\n",
       "</table>\n",
       "</div>"
      ],
      "text/plain": [
       "     PassengerId                                      Name   Age  SibSp  \\\n",
       "788          789                Dean, Master. Bertram Vere   1.0      1   \n",
       "337          338           Burns, Miss. Elizabeth Margaret  41.0      0   \n",
       "797          798                          Osman, Mrs. Mara  31.0      0   \n",
       "43            44  Laroche, Miss. Simonne Marie Anne Andree   3.0      1   \n",
       "341          342            Fortune, Miss. Alice Elizabeth  24.0      3   \n",
       "\n",
       "     Parch         Ticket      Fare        Cabin Embarked passenger_class  \\\n",
       "788      2      C.A. 2315   20.5750          NaN        S           Lower   \n",
       "337      0          16966  134.5000          E40        C           Upper   \n",
       "797      0         349244    8.6833          NaN        S           Lower   \n",
       "43       2  SC/Paris 2123   41.5792          NaN        C          Middle   \n",
       "341      2          19950  263.0000  C23 C25 C27        S           Upper   \n",
       "\n",
       "    passenger_sex passenger_survived  \n",
       "788             M                  Y  \n",
       "337             F                  Y  \n",
       "797             F                  Y  \n",
       "43              F                  Y  \n",
       "341             F                  Y  "
      ]
     },
     "execution_count": 24,
     "metadata": {},
     "output_type": "execute_result"
    }
   ],
   "source": [
    "data.sample(5)"
   ]
  },
  {
   "cell_type": "markdown",
   "id": "037d3d35",
   "metadata": {},
   "source": [
    "Se observa que tenemos varias variables categóricas."
   ]
  },
  {
   "cell_type": "markdown",
   "id": "f7d47fe6",
   "metadata": {},
   "source": [
    "### **Transformación de Variables Categóricas**"
   ]
  },
  {
   "cell_type": "code",
   "execution_count": 25,
   "id": "3194bf9e",
   "metadata": {},
   "outputs": [],
   "source": [
    "if not transformed_categoric:\n",
    "    data[\"passenger_class\"] = data[\"passenger_class\"].replace({\"Upper\" : 1, \"Middle\" : 2, \"Lower\" : 3}).astype('int32')\n",
    "    data[\"passenger_survived\"] = data[\"passenger_survived\"].replace({\"Y\" : 1, \"N\" : 0}).astype('int32')\n",
    "    data[\"passenger_sex\"] = data[\"passenger_sex\"].replace({\"M\" : 1, \"F\" : 0}).astype('int32')\n",
    "    data[\"Embarked\"] = data[\"Embarked\"].replace({\"Q\" : 0, \"C\" : 1, \"S\": 2})\n",
    "    transformed_categoric = True"
   ]
  },
  {
   "cell_type": "code",
   "execution_count": 26,
   "id": "e36af14a",
   "metadata": {
    "scrolled": true
   },
   "outputs": [
    {
     "data": {
      "text/html": [
       "<div>\n",
       "<style scoped>\n",
       "    .dataframe tbody tr th:only-of-type {\n",
       "        vertical-align: middle;\n",
       "    }\n",
       "\n",
       "    .dataframe tbody tr th {\n",
       "        vertical-align: top;\n",
       "    }\n",
       "\n",
       "    .dataframe thead th {\n",
       "        text-align: right;\n",
       "    }\n",
       "</style>\n",
       "<table border=\"1\" class=\"dataframe\">\n",
       "  <thead>\n",
       "    <tr style=\"text-align: right;\">\n",
       "      <th></th>\n",
       "      <th>PassengerId</th>\n",
       "      <th>Name</th>\n",
       "      <th>Age</th>\n",
       "      <th>SibSp</th>\n",
       "      <th>Parch</th>\n",
       "      <th>Ticket</th>\n",
       "      <th>Fare</th>\n",
       "      <th>Cabin</th>\n",
       "      <th>Embarked</th>\n",
       "      <th>passenger_class</th>\n",
       "      <th>passenger_sex</th>\n",
       "      <th>passenger_survived</th>\n",
       "    </tr>\n",
       "  </thead>\n",
       "  <tbody>\n",
       "    <tr>\n",
       "      <th>289</th>\n",
       "      <td>290</td>\n",
       "      <td>Connolly, Miss. Kate</td>\n",
       "      <td>22.0</td>\n",
       "      <td>0</td>\n",
       "      <td>0</td>\n",
       "      <td>370373</td>\n",
       "      <td>7.7500</td>\n",
       "      <td>NaN</td>\n",
       "      <td>0.0</td>\n",
       "      <td>3</td>\n",
       "      <td>0</td>\n",
       "      <td>1</td>\n",
       "    </tr>\n",
       "    <tr>\n",
       "      <th>747</th>\n",
       "      <td>748</td>\n",
       "      <td>Sinkkonen, Miss. Anna</td>\n",
       "      <td>30.0</td>\n",
       "      <td>0</td>\n",
       "      <td>0</td>\n",
       "      <td>250648</td>\n",
       "      <td>13.0000</td>\n",
       "      <td>NaN</td>\n",
       "      <td>2.0</td>\n",
       "      <td>2</td>\n",
       "      <td>0</td>\n",
       "      <td>1</td>\n",
       "    </tr>\n",
       "    <tr>\n",
       "      <th>38</th>\n",
       "      <td>39</td>\n",
       "      <td>Vander Planke, Miss. Augusta Maria</td>\n",
       "      <td>18.0</td>\n",
       "      <td>2</td>\n",
       "      <td>0</td>\n",
       "      <td>345764</td>\n",
       "      <td>18.0000</td>\n",
       "      <td>NaN</td>\n",
       "      <td>2.0</td>\n",
       "      <td>3</td>\n",
       "      <td>0</td>\n",
       "      <td>0</td>\n",
       "    </tr>\n",
       "    <tr>\n",
       "      <th>452</th>\n",
       "      <td>453</td>\n",
       "      <td>Foreman, Mr. Benjamin Laventall</td>\n",
       "      <td>30.0</td>\n",
       "      <td>0</td>\n",
       "      <td>0</td>\n",
       "      <td>113051</td>\n",
       "      <td>27.7500</td>\n",
       "      <td>C111</td>\n",
       "      <td>1.0</td>\n",
       "      <td>1</td>\n",
       "      <td>1</td>\n",
       "      <td>0</td>\n",
       "    </tr>\n",
       "    <tr>\n",
       "      <th>561</th>\n",
       "      <td>562</td>\n",
       "      <td>Sivic, Mr. Husein</td>\n",
       "      <td>40.0</td>\n",
       "      <td>0</td>\n",
       "      <td>0</td>\n",
       "      <td>349251</td>\n",
       "      <td>7.8958</td>\n",
       "      <td>NaN</td>\n",
       "      <td>2.0</td>\n",
       "      <td>3</td>\n",
       "      <td>1</td>\n",
       "      <td>0</td>\n",
       "    </tr>\n",
       "  </tbody>\n",
       "</table>\n",
       "</div>"
      ],
      "text/plain": [
       "     PassengerId                                Name   Age  SibSp  Parch  \\\n",
       "289          290                Connolly, Miss. Kate  22.0      0      0   \n",
       "747          748               Sinkkonen, Miss. Anna  30.0      0      0   \n",
       "38            39  Vander Planke, Miss. Augusta Maria  18.0      2      0   \n",
       "452          453     Foreman, Mr. Benjamin Laventall  30.0      0      0   \n",
       "561          562                   Sivic, Mr. Husein  40.0      0      0   \n",
       "\n",
       "     Ticket     Fare Cabin  Embarked  passenger_class  passenger_sex  \\\n",
       "289  370373   7.7500   NaN       0.0                3              0   \n",
       "747  250648  13.0000   NaN       2.0                2              0   \n",
       "38   345764  18.0000   NaN       2.0                3              0   \n",
       "452  113051  27.7500  C111       1.0                1              1   \n",
       "561  349251   7.8958   NaN       2.0                3              1   \n",
       "\n",
       "     passenger_survived  \n",
       "289                   1  \n",
       "747                   1  \n",
       "38                    0  \n",
       "452                   0  \n",
       "561                   0  "
      ]
     },
     "execution_count": 26,
     "metadata": {},
     "output_type": "execute_result"
    }
   ],
   "source": [
    "data.sample(5)"
   ]
  },
  {
   "cell_type": "markdown",
   "id": "dbe3c75e",
   "metadata": {},
   "source": [
    "Se observa que los valores en las variables categóricas tiene ahora una representación numérica."
   ]
  },
  {
   "cell_type": "markdown",
   "id": "7c222b1d",
   "metadata": {},
   "source": [
    "### **Splitting Data Set**\n",
    "Vamos a separar el dataset en tres grupos, training, testing y validation."
   ]
  },
  {
   "cell_type": "code",
   "execution_count": 27,
   "id": "e7a62efe",
   "metadata": {},
   "outputs": [
    {
     "name": "stdout",
     "output_type": "stream",
     "text": [
      "Complete data shape = (891, 12)\n",
      "train shape shape = (569, 12)\n",
      "validation shape (143, 12)\n"
     ]
    }
   ],
   "source": [
    "train = test = validation = None\n",
    "def split_dataset():\n",
    "    global train, test, validation\n",
    "    train, test = train_test_split(data, test_size=0.2, random_state=420*666)\n",
    "    train, validation = train_test_split(train, test_size=0.2, random_state=420*666)\n",
    "\n",
    "split_dataset()\n",
    "\n",
    "print(\"Complete data shape =\", data.shape)\n",
    "print(\"train shape shape =\", train.shape)\n",
    "print(\"validation shape\", validation.shape)"
   ]
  },
  {
   "cell_type": "markdown",
   "id": "d835873f",
   "metadata": {},
   "source": [
    "### **Imputación de datos faltantes**"
   ]
  },
  {
   "cell_type": "code",
   "execution_count": 32,
   "id": "0da1f89b",
   "metadata": {
    "scrolled": true
   },
   "outputs": [
    {
     "name": "stdout",
     "output_type": "stream",
     "text": [
      "***** Medianas *****\n",
      "passenger_class\n",
      "1    36.0\n",
      "2    30.0\n",
      "3    25.0\n",
      "Name: Age, dtype: float64 \n",
      "\n",
      "passenger_sex\n",
      "0    27.0\n",
      "1    29.0\n",
      "Name: Age, dtype: float64 \n",
      "\n",
      "\n",
      "***** Medias *****\n",
      "passenger_class\n",
      "1    36.503590\n",
      "2    29.708276\n",
      "3    26.054330\n",
      "Name: Age, dtype: float64 \n",
      "\n",
      "passenger_sex\n",
      "0    28.021802\n",
      "1    30.643860\n",
      "Name: Age, dtype: float64 \n",
      "\n"
     ]
    }
   ],
   "source": [
    "print(\"***** Medianas *****\")\n",
    "print(train.groupby('passenger_class').median()['Age'], \"\\n\")\n",
    "print(train.groupby('passenger_sex').median()['Age'], \"\\n\\n\")\n",
    "\n",
    "print(\"***** Medias *****\")\n",
    "print(train.groupby('passenger_class').mean()['Age'], \"\\n\")\n",
    "print(train.groupby('passenger_sex').mean()['Age'], \"\\n\")"
   ]
  },
  {
   "cell_type": "markdown",
   "id": "69d71a42",
   "metadata": {},
   "source": [
    "**Dos factores importantes:**\n",
    "\n",
    "**1)** Aumento en la mediana de la edad conforme la clase aumenta.<br>\n",
    "**2)** Las mujeres son ligeramente más jóvenes.\n"
   ]
  },
  {
   "cell_type": "code",
   "execution_count": 33,
   "id": "060913a9",
   "metadata": {},
   "outputs": [
    {
     "data": {
      "text/plain": [
       "passenger_class  passenger_sex\n",
       "1                0                33.0\n",
       "                 1                39.0\n",
       "2                0                28.0\n",
       "                 1                30.0\n",
       "3                0                22.0\n",
       "                 1                26.0\n",
       "Name: Age, dtype: float64"
      ]
     },
     "execution_count": 33,
     "metadata": {},
     "output_type": "execute_result"
    }
   ],
   "source": [
    "#Agrupación por ambos\n",
    "median_ages_by_class_and_sex = train.groupby(['passenger_class', 'passenger_sex']).median()['Age']\n",
    "median_ages_by_class_and_sex"
   ]
  },
  {
   "cell_type": "code",
   "execution_count": 37,
   "id": "f0c6e767",
   "metadata": {},
   "outputs": [
    {
     "name": "stderr",
     "output_type": "stream",
     "text": [
      "/home/jarminet/anaconda3/envs/galileo1/lib/python3.7/site-packages/ipykernel_launcher.py:4: SettingWithCopyWarning: \n",
      "A value is trying to be set on a copy of a slice from a DataFrame\n",
      "\n",
      "See the caveats in the documentation: https://pandas.pydata.org/pandas-docs/stable/user_guide/indexing.html#returning-a-view-versus-a-copy\n",
      "  after removing the cwd from sys.path.\n"
     ]
    }
   ],
   "source": [
    "for p in range(1,4):\n",
    "    for sex in range(0,2):\n",
    "        condition = (data['passenger_class'] == p) & (data['passenger_sex'] == sex)\n",
    "        data['Age'][condition] = data['Age'][condition].fillna(median_ages_by_class_and_sex[p][sex])\n",
    "        \n",
    "data['Age'].isna().sum()\n",
    "\n",
    "\n",
    "#Embarked missing values\n",
    "data['Embarked'] = data['Embarked'].fillna(test['Embarked'].mode()[0]).astype('int32')\n",
    "data['Embarked'].isna().sum()\n",
    "\n",
    "#Llamamos a la función de splitting para actualizar train, test y validation\n",
    "split_dataset() \n",
    "\n"
   ]
  },
  {
   "cell_type": "code",
   "execution_count": 38,
   "id": "cad3697c",
   "metadata": {
    "scrolled": true
   },
   "outputs": [
    {
     "name": "stdout",
     "output_type": "stream",
     "text": [
      "0\n",
      "0\n",
      "0\n",
      "0\n",
      "0\n",
      "0\n"
     ]
    }
   ],
   "source": [
    "#Verificación de missing values\n",
    "print(test['Age'].isna().sum())\n",
    "print(test['Embarked'].isna().sum())\n",
    "print(validation['Age'].isna().sum())\n",
    "print(validation['Embarked'].isna().sum())\n",
    "print(train['Age'].isna().sum())\n",
    "print(train['Embarked'].isna().sum())"
   ]
  },
  {
   "cell_type": "markdown",
   "id": "a105bb59",
   "metadata": {},
   "source": [
    "Se observa que ya no hay missing values"
   ]
  },
  {
   "cell_type": "markdown",
   "id": "a99e3e5a",
   "metadata": {},
   "source": [
    "### **Correlación entre variables**"
   ]
  },
  {
   "cell_type": "code",
   "execution_count": 39,
   "id": "9f188a6f",
   "metadata": {},
   "outputs": [
    {
     "data": {
      "text/plain": [
       "<AxesSubplot:>"
      ]
     },
     "execution_count": 39,
     "metadata": {},
     "output_type": "execute_result"
    },
    {
     "data": {
      "image/png": "[encoded data removed]",
      "text/plain": [
       "<Figure size 792x792 with 2 Axes>"
      ]
     },
     "metadata": {},
     "output_type": "display_data"
    }
   ],
   "source": [
    "#La primer columna no interesa debido a que es un ID (identificador)\n",
    "fig, ax = plt.subplots(figsize=(11,11))\n",
    "sns.heatmap(train.drop('PassengerId', axis=1).corr(), cmap='coolwarm', annot=True, ax=ax, square=True)"
   ]
  },
  {
   "cell_type": "markdown",
   "id": "e25939ff",
   "metadata": {},
   "source": [
    "Passenger_class, Passenger_sex, embarked tienen una correlación relativamente alta con la variable objetivo (passenger_survived)"
   ]
  },
  {
   "cell_type": "markdown",
   "id": "d12df9a7",
   "metadata": {},
   "source": [
    "### **Más exploración de datos**"
   ]
  },
  {
   "cell_type": "code",
   "execution_count": 41,
   "id": "05e6e859",
   "metadata": {},
   "outputs": [
    {
     "data": {
      "image/png": "[encoded data removed]",
      "text/plain": [
       "<Figure size 1080x1080 with 5 Axes>"
      ]
     },
     "metadata": {},
     "output_type": "display_data"
    }
   ],
   "source": [
    "features = ['passenger_sex', 'passenger_class', 'Embarked', 'SibSp', 'Parch']\n",
    "xticks = {'passenger_sex' : ['female', 'male'], 'passenger_class' : ['Upper', 'Middle', 'Lower'], 'Embarked' : ['Q', 'C', 'S']}\n",
    "\n",
    "for i, feat in enumerate(features, 1):\n",
    "    ax = plt.subplot(3,2,i)\n",
    "    ax.get_figure().set_size_inches(15,15)\n",
    "    cax = sns.countplot(x=feat, data=train, hue='passenger_survived', palette=['blue', 'green'])\n",
    "    plt.legend(['Died',  'Survived'])\n",
    "    ticks = xticks.get(feat)\n",
    "    if ticks:\n",
    "        cax.set_xticklabels(ticks)\n",
    "\n",
    "plt.tight_layout()\n",
    "plt.show()"
   ]
  },
  {
   "cell_type": "markdown",
   "id": "405a431a",
   "metadata": {},
   "source": [
    "### **Datos Importantes**\n",
    "\n",
    "**1)** Más mortalidad en hombres que en mujeres<br>\n",
    "**2)** Más mortalidad en la clase baja que en la media y alta.<br>\n",
    "**3)** Alta mortalidad en pasajeros con Embarked=S<br>\n",
    "**4)** Mayor mortalidad en personas que viajaban sin padres/hijos ni pareja/hermanos.<br>\n",
    "\n",
    "Debido a que existe mayor mortalidad en personas que viajaban sin ningún miembro de su familia, se creará una variable que consiste en la suma de ParCh y SibSp y veremos si mejora el desempeño del modelo al usarla.  Es necesario crearla en todos los datasets.\n"
   ]
  },
  {
   "cell_type": "code",
   "execution_count": 46,
   "id": "f4d57dd9",
   "metadata": {},
   "outputs": [
    {
     "data": {
      "text/html": [
       "<div>\n",
       "<style scoped>\n",
       "    .dataframe tbody tr th:only-of-type {\n",
       "        vertical-align: middle;\n",
       "    }\n",
       "\n",
       "    .dataframe tbody tr th {\n",
       "        vertical-align: top;\n",
       "    }\n",
       "\n",
       "    .dataframe thead th {\n",
       "        text-align: right;\n",
       "    }\n",
       "</style>\n",
       "<table border=\"1\" class=\"dataframe\">\n",
       "  <thead>\n",
       "    <tr style=\"text-align: right;\">\n",
       "      <th></th>\n",
       "      <th>PassengerId</th>\n",
       "      <th>Name</th>\n",
       "      <th>Age</th>\n",
       "      <th>SibSp</th>\n",
       "      <th>Parch</th>\n",
       "      <th>Ticket</th>\n",
       "      <th>Fare</th>\n",
       "      <th>Cabin</th>\n",
       "      <th>Embarked</th>\n",
       "      <th>passenger_class</th>\n",
       "      <th>passenger_sex</th>\n",
       "      <th>passenger_survived</th>\n",
       "      <th>FamilyMembers</th>\n",
       "    </tr>\n",
       "  </thead>\n",
       "  <tbody>\n",
       "    <tr>\n",
       "      <th>862</th>\n",
       "      <td>863</td>\n",
       "      <td>Swift, Mrs. Frederick Joel (Margaret Welles Ba...</td>\n",
       "      <td>48.0</td>\n",
       "      <td>0</td>\n",
       "      <td>0</td>\n",
       "      <td>17466</td>\n",
       "      <td>25.9292</td>\n",
       "      <td>D17</td>\n",
       "      <td>2</td>\n",
       "      <td>1</td>\n",
       "      <td>0</td>\n",
       "      <td>1</td>\n",
       "      <td>0</td>\n",
       "    </tr>\n",
       "    <tr>\n",
       "      <th>79</th>\n",
       "      <td>80</td>\n",
       "      <td>Dowdell, Miss. Elizabeth</td>\n",
       "      <td>30.0</td>\n",
       "      <td>0</td>\n",
       "      <td>0</td>\n",
       "      <td>364516</td>\n",
       "      <td>12.4750</td>\n",
       "      <td>NaN</td>\n",
       "      <td>2</td>\n",
       "      <td>3</td>\n",
       "      <td>0</td>\n",
       "      <td>1</td>\n",
       "      <td>0</td>\n",
       "    </tr>\n",
       "    <tr>\n",
       "      <th>484</th>\n",
       "      <td>485</td>\n",
       "      <td>Bishop, Mr. Dickinson H</td>\n",
       "      <td>25.0</td>\n",
       "      <td>1</td>\n",
       "      <td>0</td>\n",
       "      <td>11967</td>\n",
       "      <td>91.0792</td>\n",
       "      <td>B49</td>\n",
       "      <td>1</td>\n",
       "      <td>1</td>\n",
       "      <td>1</td>\n",
       "      <td>1</td>\n",
       "      <td>1</td>\n",
       "    </tr>\n",
       "    <tr>\n",
       "      <th>544</th>\n",
       "      <td>545</td>\n",
       "      <td>Douglas, Mr. Walter Donald</td>\n",
       "      <td>50.0</td>\n",
       "      <td>1</td>\n",
       "      <td>0</td>\n",
       "      <td>PC 17761</td>\n",
       "      <td>106.4250</td>\n",
       "      <td>C86</td>\n",
       "      <td>1</td>\n",
       "      <td>1</td>\n",
       "      <td>1</td>\n",
       "      <td>0</td>\n",
       "      <td>1</td>\n",
       "    </tr>\n",
       "    <tr>\n",
       "      <th>256</th>\n",
       "      <td>257</td>\n",
       "      <td>Thorne, Mrs. Gertrude Maybelle</td>\n",
       "      <td>33.0</td>\n",
       "      <td>0</td>\n",
       "      <td>0</td>\n",
       "      <td>PC 17585</td>\n",
       "      <td>79.2000</td>\n",
       "      <td>NaN</td>\n",
       "      <td>1</td>\n",
       "      <td>1</td>\n",
       "      <td>0</td>\n",
       "      <td>1</td>\n",
       "      <td>0</td>\n",
       "    </tr>\n",
       "  </tbody>\n",
       "</table>\n",
       "</div>"
      ],
      "text/plain": [
       "     PassengerId                                               Name   Age  \\\n",
       "862          863  Swift, Mrs. Frederick Joel (Margaret Welles Ba...  48.0   \n",
       "79            80                           Dowdell, Miss. Elizabeth  30.0   \n",
       "484          485                            Bishop, Mr. Dickinson H  25.0   \n",
       "544          545                         Douglas, Mr. Walter Donald  50.0   \n",
       "256          257                     Thorne, Mrs. Gertrude Maybelle  33.0   \n",
       "\n",
       "     SibSp  Parch    Ticket      Fare Cabin  Embarked  passenger_class  \\\n",
       "862      0      0     17466   25.9292   D17         2                1   \n",
       "79       0      0    364516   12.4750   NaN         2                3   \n",
       "484      1      0     11967   91.0792   B49         1                1   \n",
       "544      1      0  PC 17761  106.4250   C86         1                1   \n",
       "256      0      0  PC 17585   79.2000   NaN         1                1   \n",
       "\n",
       "     passenger_sex  passenger_survived  FamilyMembers  \n",
       "862              0                   1              0  \n",
       "79               0                   1              0  \n",
       "484              1                   1              1  \n",
       "544              1                   0              1  \n",
       "256              0                   1              0  "
      ]
     },
     "execution_count": 46,
     "metadata": {},
     "output_type": "execute_result"
    }
   ],
   "source": [
    "data['FamilyMembers'] = data['Parch'] + all_data['SibSp']\n",
    "\n",
    "#Actualizar datasets\n",
    "split_dataset()\n",
    "\n",
    "train.sample(5)"
   ]
  },
  {
   "cell_type": "markdown",
   "id": "be8d2c29",
   "metadata": {},
   "source": [
    "## **Modelos de predicción**"
   ]
  },
  {
   "cell_type": "markdown",
   "id": "15ab1ebb",
   "metadata": {},
   "source": [
    "### **Naive Bayes**"
   ]
  },
  {
   "cell_type": "code",
   "execution_count": 49,
   "id": "9bd4fc76",
   "metadata": {},
   "outputs": [],
   "source": [
    "class NaiveBayes:\n",
    "    def __init__(self, train_x, train_y, x_labels=None):\n",
    "        self.x_labels = x_labels\n",
    "        df = self.__init_dataframe(train_x, train_y)\n",
    "        by_class = df.groupby('y')\n",
    "        self.means = by_class.mean()\n",
    "        self.stdvs = by_class.std()\n",
    "        self.cdist = by_class['y'].count() / df.shape[0]\n",
    "\n",
    "    def __init_dataframe(self, train_x, train_y):\n",
    "        df = pd.DataFrame()\n",
    "        df['y'] = train_y\n",
    "        for i,x in enumerate(train_x):\n",
    "            label = self.x_labels[i] if self.x_labels else 'x_' + str(i)\n",
    "            df[label] = x\n",
    "        return df\n",
    "\n",
    "    def predict(self, x_samples):\n",
    "        probs = []\n",
    "        for y in self.cdist.index:\n",
    "            mean = self.means.iloc[y].to_numpy()\n",
    "            std = self.stdvs.iloc[y].to_numpy()\n",
    "            p_x = self.norm_pdf(x_samples, mean, std)\n",
    "            probs.append(self.cdist[y] * np.prod(p_x, axis=1))\n",
    "        probs = np.asarray(probs)\n",
    "        return np.argmax(probs.T,axis=1)\n",
    "\n",
    "    def norm_pdf(self, x, mean, std):\n",
    "        e = np.exp(-((x - mean)**2 / (2 * std**2 )))\n",
    "        return (1 / (sqrt(2*pi) * std)) * e\n",
    "    \n",
    "\n",
    "def train_naive_bayes(x, y):\n",
    "    if y.shape[0] != x.shape[1]:\n",
    "        x = x.T\n",
    "    nv = NaiveBayes(x,y)\n",
    "    return nv"
   ]
  },
  {
   "cell_type": "markdown",
   "id": "e0e7428e",
   "metadata": {},
   "source": [
    "### **Regresión Logísitca**"
   ]
  },
  {
   "cell_type": "code",
   "execution_count": 51,
   "id": "acbe5494",
   "metadata": {},
   "outputs": [],
   "source": [
    "class BinaryLogisticRegression:\n",
    "    def __init__(self, x, y):\n",
    "        #Reshaping\n",
    "        self.x = x.reshape(-1,1) if x.ndim == 1 else x \n",
    "        self.y = y.reshape(-1, 1)\n",
    "        self.weights = None\n",
    "        self.epochs = None \n",
    "        self.lr = None\n",
    "        self.print_rate = None\n",
    "        self.feed = None\n",
    "        self.batch_size = None\n",
    "        self.batch_iters = None\n",
    "    \n",
    "    def train(self, epochs, lr, batch_size, print_rate=10):\n",
    "        self.print_rate = print_rate\n",
    "        self.epochs = epochs\n",
    "        self.lr = lr\n",
    "        self.batch_size = min(batch_size, self.x.shape[0])\n",
    "        self.batch_iters = int(self.x.shape[0]/self.batch_size)\n",
    "\n",
    "        g = tf.Graph()\n",
    "        with g.as_default():\n",
    "            return self.__do_train()\n",
    "\n",
    "    \n",
    "    def __do_train(self):\n",
    "        placeholder_x = tf.placeholder(tf.float64, [self.batch_size, self.x.shape[1]], \"x\")\n",
    "        placeholder_y = tf.placeholder(tf.float64, [self.batch_size, self.y.shape[1]], \"y\")\n",
    "\n",
    "        with tf.Session() as session:\n",
    "            (weights_op, error_op) = self.__gradient_descent(placeholder_x, placeholder_y)\n",
    "            self.before_training(session.graph, weights_op, error_op)\n",
    "            session.run(tf.global_variables_initializer())    \n",
    "            for epoch in range(1, self.epochs + 1):\n",
    "                for i in range(self.batch_iters):\n",
    "                    start_index  = i*self.batch_size\n",
    "                    end_index = start_index + self.batch_size\n",
    "\n",
    "                    x_batch = np.array(self.x[start_index:end_index])\n",
    "                    y_batch = np.array(self.y[start_index:end_index])\n",
    "                    self.feed = { placeholder_x: x_batch, placeholder_y: y_batch }\n",
    "\n",
    "\n",
    "                    out = session.run([weights_op, error_op], self.feed)\n",
    "                    self.error = out[1]\n",
    "                    self.weights = out[0]\n",
    "                self.after_epoch(epoch, session)\n",
    "\n",
    "    def __gradient_descent(self, x, y):\n",
    "        n_samples = x.shape[0]\n",
    "        n_independent_vars = x.shape[1] + 1\n",
    "\n",
    "        bias_feature = tf.ones([n_samples, 1], tf.float64)\n",
    "        x = tf.concat([x, bias_feature], axis=1)\n",
    "\n",
    "        initial_weights = tf.zeros([n_independent_vars, 1], tf.float64)\n",
    "        weights = tf.Variable(name=\"Weights\", initial_value=initial_weights)\n",
    "        logits = tf.matmul(x, weights)\n",
    "        error = tf.reduce_mean(tf.nn.sigmoid_cross_entropy_with_logits(logits=logits,labels=y))\n",
    "        gradients = tf.gradients(error, weights)\n",
    "        adjustment = tf.scalar_mul(-self.lr, gradients[0])\n",
    "        weights = tf.assign(weights, (tf.add(weights, adjustment)))\n",
    "        return (weights, error)\n",
    "\n",
    "    def after_epoch(self, epoch, session):\n",
    "        if epoch % self.print_rate == 0 or epoch == self.epochs:\n",
    "            print(\"epoch:\" + str(epoch) + \" error: \" + str(self.error))\n",
    "    \n",
    "    def before_training(self, graph, weights_op, error_op):\n",
    "        # overridear para inicializar tensorboard, etc\n",
    "        pass\n",
    "\n",
    "    def predict(self, x):\n",
    "        x = np.hstack((x,np.ones((x.shape[0],1))))\n",
    "        logits = np.matmul(x, self.weights)\n",
    "        logits_ph = tf.placeholder(tf.float32, logits.shape)\n",
    "        with tf.Session() as session:\n",
    "            feed = {logits_ph: logits}\n",
    "            probs = session.run(tf.nn.sigmoid(logits_ph), feed_dict=feed)\n",
    "            session.close()\n",
    "        y = np.array(list(map(lambda p: 1 if p > 0.5 else 0, probs)))\n",
    "        return y\n",
    "    \n",
    "\n",
    "def train_logistic_regression(x, y, epochs, lr, batch_size, print_rate=1000):\n",
    "    logreg = BinaryLogisticRegression(x,y)\n",
    "    logreg.train(epochs, lr, batch_size, print_rate)\n",
    "    return logreg\n"
   ]
  }
 ],
 "metadata": {
  "kernelspec": {
   "display_name": "Python 3",
   "language": "python",
   "name": "python3"
  },
  "language_info": {
   "codemirror_mode": {
    "name": "ipython",
    "version": 3
   },
   "file_extension": ".py",
   "mimetype": "text/x-python",
   "name": "python",
   "nbconvert_exporter": "python",
   "pygments_lexer": "ipython3",
   "version": "3.7.10"
  }
 },
 "nbformat": 4,
 "nbformat_minor": 5
}
